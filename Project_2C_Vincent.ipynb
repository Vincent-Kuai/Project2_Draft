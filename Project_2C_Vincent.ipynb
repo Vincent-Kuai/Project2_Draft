{
 "cells": [
  {
   "cell_type": "markdown",
   "id": "7263c8e5",
   "metadata": {},
   "source": [
    "# Project 2C - Vincent Kuai"
   ]
  },
  {
   "cell_type": "markdown",
   "id": "aa85f818",
   "metadata": {},
   "source": [
    "### Scientific Question: My scientific question is asking how does the alochol dehdyrogenase protein that is associated with flavor/aroma of the Piedmont White Truffle(Tuber Magnatum) compare to other similar truffles such as the Black Périgord Truffle?\n",
    "\n",
    "Truffles are a fungal food item sold at lucratively high prices and coveted for their unique aroma and flavor. Some of the more well known truffles are the Piedmont White Truffle(Tuber Magnatum) and the Black Périgord Truffle(Tuber Melanosporum). The cause of the unique flavor/aroma of these truffles have been found to be influenced by multiple factors such as the genes, proteins, microbiology, and even the geography of the truffles. In this project, the focus will mostly be on the impact of proteins and the variability of the alochol dehydrogenase protein between Tuber Magnatum and Tuber Melanosporum.\n",
    "\n",
    "The the research paper by Islam et. al in 2013, the found nine putative proteins that were indicative of the unique aroma/flavor of the Tuber Melanosporum. Of the nine proteins found, one of them was annotated as being an acohol dehydrogenase. In another paper by Murat et. al in 2018, one of the proteins annotated as being part of the metabolic pathway in Tuber Magnatum was an alcohol dehydrogenase. So, this project looks at these two alcohol dehydrogenase proteins and how similar they are in sequence, while also using an alcohol dehydrogenase from Saccharomyces Cerevisiae as a negative control.\n",
    "\n",
    "The database used for the Tuber Magnatum was found extracted from ncbi through the research paper by Murat et. al in 2018. The database for Tuber Melanosporum was taken from ebi and was from the research paper by Islam et. al in 2013. The database for Saccharomyces Cerevisiae was found through ncbi by Young et. al."
   ]
  },
  {
   "cell_type": "markdown",
   "id": "def34e65",
   "metadata": {},
   "source": [
    "### Hypothesis: My refined scientific hypothesis is: If the aroma of the Tuber Magnatum is unique, then the alcohol dehydrogenase enzyme in the Tuber Magnatum will be different in protein sequence from the one in Tuber Melanosporum.\n",
    "\n",
    "The FASTA files of alcohol dehydrogenase from each truffle was first saved in their own txt file. This is where the Bioinformatics begins with the sequences each being coded into one txt file that contained all the FASTA files titled \"Proteins_Total.\"\n",
    "\n",
    "The file of \"Proteins_Total\" was then used to preform multiple sequence alignment on to see the alignment of each sequence together. Pariwise sequence alignment was also done using the \"Proteins_Total\" and manually done between each pair to visually see how each sequence compared with each other. \n",
    "\n",
    "Afterwards the visualzation of the heatplot was made based on the scores from the pairwise sequence alignment. This heatplot further showed the simialrity of each protein sequence from each other.\n",
    "\n",
    "The protein sequences for Tuber Magnatum and Saccharomyces Cerevisiae was found through ncbi and protein sequence for Tuber Melanosporum was taken from ebi."
   ]
  },
  {
   "cell_type": "markdown",
   "id": "faa0ab15",
   "metadata": {},
   "source": [
    "### Loading the Packages\n",
    "\n",
    "- Biopython: Biopython has a wide variety of computational tools for molecular biology analysis. Within Biopython there are some useful subpackages and modules such as AlignIO and SeqIO which can be used to do sequence alignments. Biopython has the capapbility to parse through many different types of file formats and also has access to different online services. There are also tools within Biopython that enable the user to perform operations such as translation, and transcription. The package also has a sequence database schema called BioSQL. The Biopython package also has code that is able to split up tasks that can be done in parallel to be done in seperate processes.  More information on the Biopython package can be found here: http://biopython.org/DIST/docs/tutorial/Tutorial.html#sec2\n",
    "- NumPy: NumPy is a python package that provides a wide varitey of useful tools such as multidimensional arrays, various derived objects, and ways to perform mathemetical analysis on the arrays. The main use of NumPy is for its ndarray object feature which allows creation of ndimensional arrays of data types. It is also worth noting that the numpy array created is different from the standard sequences made from Python. One significant NumPy feature is its vectoraization which removes explicit looping, indexing, and such to be in pre-Complied C code. Another feature of NumPy is its broadcasting which describes the package's ability to handle operations in an element by element manner. More information about numpy can be found here: https://numpy.org/doc/stable/user/whatisnumpy.html\n",
    "- Matplotlib: Matplotlib is a python package mainly for visulaztion of plots. This package is able to support the figures created by embedding it into a GUI window. Matplotlib has the capability to make a wide variety of different plots based on NumPy arrays. Some example plots that can be created are: histograms, scatter plots, bar graphs, box plots, pie charts, and much more. The plots can be edited in a variety of ways such as changing axis, color, size, etc. Matplotlib is also capable of creating documents in many different formats of the plots. This package also offers some flexibility in being able to reduce the rendering time in exchange for a change in the plot's appearance. More information can be found here: https://matplotlib.org/stable/users/explain/index.html "
   ]
  },
  {
   "cell_type": "code",
   "execution_count": 30,
   "id": "e2c84107",
   "metadata": {},
   "outputs": [],
   "source": [
    "#Importing the packages\n",
    "import Bio\n",
    "from Bio import SeqIO\n",
    "from Bio import pairwise2\n",
    "from Bio.pairwise2 import format_alignment\n",
    "from Bio import AlignIO \n",
    "import numpy as np\n",
    "import matplotlib.pyplot as plt\n",
    "import matplotlib as mpl"
   ]
  },
  {
   "cell_type": "code",
   "execution_count": 31,
   "id": "6403dbcd",
   "metadata": {},
   "outputs": [],
   "source": [
    "# reading the fasta file for Tuber Magnatum and storing it into a variable\n",
    "# fasta sequence is from: https://www.ncbi.nlm.nih.gov/protein/PWW78292.1  \n",
    "# fasta sequences were added a .seq at the end so that the pairwise is only performed on the seqeunces and not the entire fasta file\n",
    "Tuber_Magnatum_protein = SeqIO.read(\"Tuber_Magnatum_Alcohol_Dehy\", \"fasta\")\n",
    "Tuber_Magnatum_protein_seq = Tuber_Magnatum_protein.seq"
   ]
  },
  {
   "cell_type": "code",
   "execution_count": 12,
   "id": "f4fa3f29",
   "metadata": {
    "scrolled": true
   },
   "outputs": [],
   "source": [
    "# Print here shows the details of the fasta file such as the name and the sequence to confirm that it is stored properly\n",
    "# code check\n",
    "# print(Tuber_Magnatum_protein)"
   ]
  },
  {
   "cell_type": "code",
   "execution_count": 34,
   "id": "4a4c0215",
   "metadata": {},
   "outputs": [],
   "source": [
    "# Reading and storing the fasta file for Tuber Melanosporum into a variable\n",
    "# fasta sequence is from: http://fungi.ensembl.org/Tuber_melanosporum/Gene/Summary?g=GSTUM_00006862001;r=FN430208:1435572-1437530;t=CAZ83243;db=core \n",
    "Tuber_Melanosporum_protein = SeqIO.read(\"Tuber_Melanosporum_Alcohol_Dehy\", \"fasta\")\n",
    "Tuber_Melanosporum_protein_seq = Tuber_Melanosporum_protein.seq"
   ]
  },
  {
   "cell_type": "code",
   "execution_count": 13,
   "id": "9062e85d",
   "metadata": {},
   "outputs": [],
   "source": [
    "# Print here shows the details of the fasta file such as the name and the sequence to confirm that it is stored properly\n",
    "# code check\n",
    "# print(Tuber_Melanosporum_protein)"
   ]
  },
  {
   "cell_type": "code",
   "execution_count": 36,
   "id": "e46e6f13",
   "metadata": {},
   "outputs": [],
   "source": [
    "# Storing the fasta file for Saccharomyces Cerevisiae into a variable\n",
    "# https://www.ncbi.nlm.nih.gov/protein/AAA34411.1 \n",
    "Saccharomyces_Cerevisiae_Protein = SeqIO.read(\"Saccharomyces_Cerevisiae_Alcohol_Dehy\", \"fasta\")\n",
    "Saccharomyces_Cerevisiae_Protein_seq = Saccharomyces_Cerevisiae_Protein.seq"
   ]
  },
  {
   "cell_type": "code",
   "execution_count": 14,
   "id": "39026e1f",
   "metadata": {},
   "outputs": [],
   "source": [
    "# Print here shows the details of the fasta file such as the name and the sequence to confirm that it is stored properly\n",
    "# code check\n",
    "# print(Saccharomyces_Cerevisiae_Protein)"
   ]
  },
  {
   "cell_type": "code",
   "execution_count": 23,
   "id": "20f75374",
   "metadata": {},
   "outputs": [
    {
     "data": {
      "text/plain": [
       "3"
      ]
     },
     "execution_count": 23,
     "metadata": {},
     "output_type": "execute_result"
    }
   ],
   "source": [
    "# Combining fasta files into one fasta file\n",
    "\n",
    "# Empty lists to store the headers of the fasta files into headerList and the sequence data into seqList\n",
    "# The headerList will store the header of the fasta sequences\n",
    "# The seqList will store the sequences of the fasta sequences\n",
    "#https://www.biostars.org/p/18129/\n",
    "headerList = []\n",
    "seqList = []\n",
    "\n",
    "#Data from Tuber Magnatum being sorted and put into the headerList and seqList\n",
    "Tuber_Magnatum_fasta = open('Tuber_Magnatum_Alcohol_Dehy','r')\n",
    "for record in SeqIO.parse(Tuber_Magnatum_fasta,'fasta'):\n",
    "   headerList.append(record.id)\n",
    "   seqList.append(str(record.seq))\n",
    "    \n",
    "#Data from Tuber Melanosporum being sorted and put into the headerList and seqList\n",
    "Tuber_Melanosporum_fasta = open('Tuber_Melanosporum_Alcohol_Dehy','r')\n",
    "for record in SeqIO.parse(Tuber_Melanosporum_fasta,'fasta'):\n",
    "   headerList.append(record.id)\n",
    "   seqList.append(str(record.seq))\n",
    "\n",
    "#Data from Saccharomyces Cerevisiae being sorted and put into the headerList and seqList\n",
    "Saccharomyces_Cerevisiae_fasta = open('Saccharomyces_Cerevisiae_Alcohol_Dehy','r')\n",
    "for record in SeqIO.parse(Saccharomyces_Cerevisiae_fasta,'fasta'):\n",
    "   headerList.append(record.id)\n",
    "   seqList.append(str(record.seq))\n",
    "\n",
    "#creating a txt file of all the proteins in it titled Proteins_MSA\n",
    "#https://www.biostars.org/p/142519/ \n",
    "ofile = open(\"Proteins_Total\", \"w\")\n",
    "for i in range(len(seqList)):\n",
    "    # txt file is including the > since it's a fasta sequence and also the headerList and seqList\n",
    "    ofile.write(\">\" + headerList[i] + \"\\n\" + seqList[i] + \"\\n\")\n",
    "ofile.close()\n",
    "\n",
    "# code check\n",
    "# check to see that the header of each fasta sequences was correctly put into the list\n",
    "# print(headerList)\n",
    "# check to see that the sequences of each protein was cocrrectly put into the list\n",
    "# print(seqList)\n",
    "\n",
    "#Creating GAPs so that each protein is the same length, then putting all this into a new txt file titled New_Proteins_MSA\n",
    "#https://stackoverflow.com/questions/64477731/padding-short-sequences-with-gaps-using-biopython\n",
    "\n",
    "# Creating a variable to store the data of all the proteins sequences/headers id from the previous fasta file\n",
    "sequences = [s for s in SeqIO.parse('Proteins_Total', 'fasta')]\n",
    "#code check that proteins are properly stored into variable sequences\n",
    "# print(sequences)\n",
    "\n",
    "# Making the smaller protein sequences match the longest protein sequences by adding in gaps to the ends of the shorter protein sequences\n",
    "max_len = max([len(s.seq) for s in sequences])\n",
    "GAPs = \"-\"\n",
    "\n",
    "# Using a for loop to iterate the gaps onto the shorter sequences\n",
    "for seq in sequences:\n",
    "    padding = GAPs*(max_len - len(seq.seq)) \n",
    "    seq.seq += padding\n",
    "SeqIO.write(sequences, 'New_Proteins_Total', 'fasta')"
   ]
  },
  {
   "cell_type": "code",
   "execution_count": 25,
   "id": "7929dc7c",
   "metadata": {
    "scrolled": false
   },
   "outputs": [
    {
     "name": "stdout",
     "output_type": "stream",
     "text": [
      "Alignment length 379\n",
      "MSSTEGKTITCKAAVAWEPGKPLSIEEIEVAPPRGHEVRIKIHYTGVCHTDAYTLSGKDPEGAFPIVLGHEGAGTVESIGEGVTNVKVGDHVVALYTPECRECKFCKSGKTNLCGKIRATQGKGVMPDGTSRFRAKGKDLLHFMGTSTFSQYTVVADISVVAITYDVSMEKTCLLGCGITTGYGAAVVTAGVENGSTVAVFGAGCVGLSVIQGAVKCGASKIIVVDVNDKKEEWGKRFGATHFVNPSKIGSQTIQEKLIEMTDGGLDYTFDCTGNVQVMRAALEACHKGWGQSIVIGVAAAGQEISTRPFQLVTGRVWKGCAFGGIKGRTQLPDLVRDYMEGKLKVDEFITHREPLGQINNAFDQMKVGDCIRCVVNMQ PWW78292.1\n",
      "MSVPTEQYAQVFKSNNDPIERKKVPVSKPGPDEVLVNIKYTGVCHTDLHAWKGDWPLQTKQNLIGGHEGAGVVVAVGELVKDIKVGDHAGIKWINGSCGHCEFCMAGDEPLCTNALLSGYTVDGSFQQYAIGKAVDVARIPKGVPLDAVAPILCAGITVYKALKESQARAGQTIAIVGAGGGLGSLAVQYAKAMGFRVIAIDTGSEKQEMCLNVLGAEEYVDFAKEDVGAKVKSITGGLGAHAVILLAVSEKPFQHATEYCRAHGTVVCVGLPAKARISAEVFPTVIRMITIKGSYVGNRIDTHEAIDFFARGLIKAPFKVGKLSELPQVFKLMEEGKIAGRYVLDTSK------------------------------ GSTUM_00006862001:CAZ83243\n",
      "MSIPETQKAIIFYESHGKLEHKDIPVPKPKANELLINVKYSGVCHTDLHAWHGDWPLPTKLPLVGGHEGAGVVVGMGENVKGWKIGDYAGIKWLNGSCMACEYCELGNESNCPHADLSGYTHDGSFQEYATADAVQAAHIPQGTDLAEVAPILCAGITVYKALKSANLRAGHWAAISGAAGGLGSLAVQYAKAMGYRVLGIDGGPGKEELFTSLGGEVFIDFTKEKDIVSAVVKATNGGAHGIINVSVSEAAIEASTRYCRANGTVVLVGLPAGAKCSSDVFNHVVKSISIVGSYVGNRADTREALDFFARGLVKSPIKVVGLSSLPEIYEKMEKGQIAGRYVVDTSK------------------------------- AAA34411.1\n"
     ]
    }
   ],
   "source": [
    "# Multiple Sequence Alignment\n",
    "\n",
    "# Fasta file with all the proteins in appropiate sizes are stored into variable\n",
    "alignment = AlignIOalignment = AlignIO.read(open(\"New_Proteins_Total\"), \"fasta\")\n",
    "\n",
    "# Printing out the alignment lengh total at the top\n",
    "print(\"Alignment length %i\" % alignment.get_alignment_length())\n",
    "\n",
    "# Showing a printout of each protein sequences and their id\n",
    "for record in alignment:\n",
    "    print(record.seq + \" \" + record.id)"
   ]
  },
  {
   "cell_type": "code",
   "execution_count": 64,
   "id": "79d2b924",
   "metadata": {},
   "outputs": [],
   "source": [
    "# Pairwise between Tuber Magnatum with Tuber Melanosporum\n",
    "# Performing global alignment between the two sequences\n",
    "# Match given +1, else 0\n",
    "# No gap penalty\n",
    "Magnatum_Melanosporum = pairwise2.align.globalxx(Tuber_Magnatum_protein_seq, Tuber_Melanosporum_protein_seq)\n",
    "# code check for pairwise\n",
    "# print(format_alignment(*Magnatum_Melanosporum[0]))"
   ]
  },
  {
   "cell_type": "code",
   "execution_count": 63,
   "id": "1fa80b99",
   "metadata": {
    "scrolled": false
   },
   "outputs": [],
   "source": [
    "# Pairwise between Tuber Magnatum and Saccharomyces Cerevisiae-Negative Control\n",
    "Magnatum_Saccharomyces = pairwise2.align.globalxx(Tuber_Magnatum_protein_seq, Saccharomyces_Cerevisiae_Protein_seq)\n",
    "# code check for pairwise\n",
    "# print(format_alignment(*Magnatum_Saccharomyces[0]))"
   ]
  },
  {
   "cell_type": "code",
   "execution_count": 50,
   "id": "dabc3f36",
   "metadata": {
    "scrolled": true
   },
   "outputs": [
    {
     "name": "stdout",
     "output_type": "stream",
     "text": [
      "PWW78292.1\n",
      "PWW78292.1\n",
      "PWW78292.1\n",
      "GSTUM_00006862001:CAZ83243\n",
      "GSTUM_00006862001:CAZ83243\n",
      "GSTUM_00006862001:CAZ83243\n",
      "AAA34411.1\n",
      "AAA34411.1\n",
      "AAA34411.1\n"
     ]
    },
    {
     "data": {
      "image/png": "[encoded data removed]",
      "text/plain": [
       "<Figure size 432x288 with 1 Axes>"
      ]
     },
     "metadata": {
      "needs_background": "light"
     },
     "output_type": "display_data"
    }
   ],
   "source": [
    "#Creating a Heatplot based on pairwise data\n",
    "#storing fasta data of all three proteins into the variable \"Fasta\"\n",
    "Fasta = list(SeqIO.parse(\"Proteins_Total\", \"fasta\"))\n",
    "\n",
    "#measuring the size of the sequences and storing into variable \"size\"\n",
    "size = len(Fasta)\n",
    "\n",
    "#Initiate variable i and j for for loop\n",
    "i = 0\n",
    "j = 0\n",
    "\n",
    "#creating an empty matrix for the size of the fasta file\n",
    "alignments_score = np.empty(shape=(size,size))\n",
    "\n",
    "#Creating a fucntion: Nested for loop to do pairwise sequence alignment for each pair of the proteins\n",
    "def pairwise_seq_heatmap(my_numpy_array, size):\n",
    "    for i in range(size):\n",
    "        for j in range(size):\n",
    "        # Define two sequences to be aligned as sequences\n",
    "            X = Fasta[i].seq\n",
    "            Y = Fasta[j].seq\n",
    "            print(Fasta[i].id)\n",
    "\n",
    "        # Get a list of the global alignments\n",
    "        # No parameters. Identical characters have score of 1, else 0.\n",
    "        # No gap penalties.\n",
    "            my_numpy_array[i,j] = int(pairwise2.align.globalxx(X, Y, score_only=True))\n",
    "\n",
    "    return my_numpy_array\n",
    "# Check that the for loop correctly created the matrix\n",
    "My_alignment_Scores = pairwise_seq_heatmap(alignments_score, size)\n",
    "#code check\n",
    "#check that the alignment scores are palced correctly\n",
    "# print(My_alignments_score)\n",
    "\n",
    "# normalize = np.amax(My_alignment_Scores)\n",
    "# My_alignment_Scores = My_alignment_Scores/normalize\n",
    "# print(My_alignment_Scores)\n",
    "\n",
    "#Create subplot\n",
    "fig, ax = plt.subplots()\n",
    "\n",
    "# Actually show the heatplot\n",
    "plt.imshow(alignments_score)\n",
    "\n",
    "# Construct the heat map to show the axes\n",
    "im = ax.imshow(alignments_score)\n",
    "\n",
    "# Add a colorbar to the right of the heatmap\n",
    "cbar = ax.figure.colorbar(im)\n",
    "\n",
    "\n",
    "# Show the plot\n",
    "plt.show()\n",
    "\n"
   ]
  },
  {
   "cell_type": "markdown",
   "id": "cf84aa98",
   "metadata": {},
   "source": [
    "### Analysis of Result\n",
    "\n",
    "In the heatplot shown above each box represents a similarity scoring value that was taken from the pairwise sequence alignment. Along the diagonal is where the sequences are being aligned to themselves and so the scores are very high. Along the sides, where the colors are darker shows how the sequnce of the protein from Tuber Magnatum is aligning to the Tuber Melanosporum and Saccharomyces Cerevisiae protein. The Tuber Magnatum is showing very low alignment when being compared to both the Tuber Melanosporum and the Saccharomyces Cerevisiae protein."
   ]
  },
  {
   "cell_type": "markdown",
   "id": "cdea91d6",
   "metadata": {},
   "source": [
    "### References\n"
   ]
  },
  {
   "cell_type": "markdown",
   "id": "14ffb652",
   "metadata": {},
   "source": [
    "global variable = can be refereneced at any point inthe code\n",
    "\n",
    "local vairiable = only exists within the function, outside the function, it doesn't exist"
   ]
  },
  {
   "cell_type": "code",
   "execution_count": null,
   "id": "a089be13",
   "metadata": {},
   "outputs": [],
   "source": []
  }
 ],
 "metadata": {
  "kernelspec": {
   "display_name": "Python 3",
   "language": "python",
   "name": "python3"
  },
  "language_info": {
   "codemirror_mode": {
    "name": "ipython",
    "version": 3
   },
   "file_extension": ".py",
   "mimetype": "text/x-python",
   "name": "python",
   "nbconvert_exporter": "python",
   "pygments_lexer": "ipython3",
   "version": "3.8.8"
  }
 },
 "nbformat": 4,
 "nbformat_minor": 5
}
